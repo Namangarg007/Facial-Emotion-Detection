{
 "cells": [
  {
   "cell_type": "code",
   "execution_count": 1,
   "metadata": {},
   "outputs": [],
   "source": [
    "from tensorflow.keras.preprocessing.image import ImageDataGenerator\n",
    "from tensorflow.keras.models import Sequential\n",
    "from tensorflow.keras.layers import Dense, Dropout, Flatten, BatchNormalization\n",
    "from tensorflow.keras.layers import Conv2D, MaxPooling2D, Activation\n",
    "from tensorflow.keras.callbacks import ModelCheckpoint, EarlyStopping, ReduceLROnPlateau\n",
    "from tensorflow.keras.optimizers import Adam"
   ]
  },
  {
   "cell_type": "code",
   "execution_count": 2,
   "metadata": {},
   "outputs": [],
   "source": [
    "train_datagen =ImageDataGenerator(\n",
    "                                rescale=1./255,\n",
    "                                rotation_range=30,\n",
    "                                shear_range=0.3,\n",
    "                                zoom_range=0.3,\n",
    "                                width_shift_range=0.4,\n",
    "                                height_shift_range=0.4,\n",
    "                                horizontal_flip=True,\n",
    "                                fill_mode=\"nearest\")"
   ]
  },
  {
   "cell_type": "code",
   "execution_count": 3,
   "metadata": {},
   "outputs": [],
   "source": [
    "validation_datagen = ImageDataGenerator(rescale=1./255)"
   ]
  },
  {
   "cell_type": "code",
   "execution_count": 4,
   "metadata": {},
   "outputs": [
    {
     "name": "stdout",
     "output_type": "stream",
     "text": [
      "Found 24177 images belonging to 5 classes.\n"
     ]
    }
   ],
   "source": [
    "train_generator = train_datagen.flow_from_directory(\n",
    "                                                    './train/',\n",
    "                                                    color_mode=\"grayscale\",\n",
    "                                                    target_size=(48,48),\n",
    "                                                    batch_size=64,\n",
    "                                                    class_mode=\"categorical\",\n",
    "                                                    shuffle=True)"
   ]
  },
  {
   "cell_type": "code",
   "execution_count": 5,
   "metadata": {},
   "outputs": [
    {
     "name": "stdout",
     "output_type": "stream",
     "text": [
      "Found 3006 images belonging to 5 classes.\n"
     ]
    }
   ],
   "source": [
    "validation_generator = validation_datagen.flow_from_directory(  \n",
    "                                                    './validation/',\n",
    "                                                    color_mode=\"grayscale\",\n",
    "                                                    target_size=(48,48),\n",
    "                                                    batch_size=64,\n",
    "                                                    class_mode=\"categorical\",\n",
    "                                                    shuffle=True)"
   ]
  },
  {
   "cell_type": "code",
   "execution_count": 6,
   "metadata": {},
   "outputs": [],
   "source": [
    "model = Sequential()"
   ]
  },
  {
   "cell_type": "code",
   "execution_count": 7,
   "metadata": {},
   "outputs": [],
   "source": [
    "model.add(Conv2D(32,(3,3),padding='same',kernel_initializer='he_normal',input_shape=(48,48,1)))\n",
    "model.add(Activation('relu'))\n",
    "model.add(BatchNormalization())\n",
    "model.add(Conv2D(32,(3,3),padding='same',kernel_initializer='he_normal',input_shape=(48,48,1)))\n",
    "model.add(Activation('relu'))\n",
    "model.add(BatchNormalization())\n",
    "model.add(MaxPooling2D(pool_size=(2,2)))\n",
    "\n",
    "model.add(Conv2D(64,(3,3),padding='same',kernel_initializer='he_normal'))\n",
    "model.add(Activation('relu'))\n",
    "model.add(BatchNormalization())\n",
    "model.add(Conv2D(64,(3,3),padding='same',kernel_initializer='he_normal'))\n",
    "model.add(Activation('relu'))\n",
    "model.add(BatchNormalization())\n",
    "model.add(MaxPooling2D(pool_size=(2,2)))"
   ]
  },
  {
   "cell_type": "code",
   "execution_count": 8,
   "metadata": {},
   "outputs": [],
   "source": [
    "model.add(Conv2D(128,(3,3),padding='same',kernel_initializer='he_normal'))\n",
    "model.add(Activation('relu'))\n",
    "model.add(BatchNormalization())\n",
    "model.add(Conv2D(128,(3,3),padding='same',kernel_initializer='he_normal'))\n",
    "model.add(Activation('relu'))\n",
    "model.add(BatchNormalization())\n",
    "model.add(MaxPooling2D(pool_size=(2,2)))"
   ]
  },
  {
   "cell_type": "code",
   "execution_count": 9,
   "metadata": {},
   "outputs": [],
   "source": [
    "model.add(Conv2D(128,(3,3),padding='same',kernel_initializer='he_normal'))\n",
    "model.add(Activation('relu'))\n",
    "model.add(BatchNormalization())\n",
    "model.add(Conv2D(128,(3,3),padding='same',kernel_initializer='he_normal'))\n",
    "model.add(Activation('relu'))\n",
    "model.add(BatchNormalization())\n",
    "model.add(MaxPooling2D(pool_size=(2,2)))"
   ]
  },
  {
   "cell_type": "code",
   "execution_count": 10,
   "metadata": {},
   "outputs": [],
   "source": [
    "model.add(Flatten())\n",
    "model.add(Dense(128,kernel_initializer='he_normal'))\n",
    "model.add(Activation('relu'))\n",
    "model.add(BatchNormalization())"
   ]
  },
  {
   "cell_type": "code",
   "execution_count": 11,
   "metadata": {},
   "outputs": [],
   "source": [
    "model.add(Dense(64,kernel_initializer='he_normal'))\n",
    "model.add(Activation('relu'))\n",
    "model.add(BatchNormalization())"
   ]
  },
  {
   "cell_type": "code",
   "execution_count": 12,
   "metadata": {},
   "outputs": [],
   "source": [
    "model.add(Dense(32,kernel_initializer='he_normal'))\n",
    "model.add(Activation('relu'))\n",
    "model.add(BatchNormalization())"
   ]
  },
  {
   "cell_type": "code",
   "execution_count": 13,
   "metadata": {},
   "outputs": [],
   "source": [
    "model.add(Dense(5, kernel_initializer='he_normal'))\n",
    "model.add(Activation('softmax'))"
   ]
  },
  {
   "cell_type": "code",
   "execution_count": 14,
   "metadata": {},
   "outputs": [
    {
     "name": "stdout",
     "output_type": "stream",
     "text": [
      "Model: \"sequential\"\n",
      "_________________________________________________________________\n",
      "Layer (type)                 Output Shape              Param #   \n",
      "=================================================================\n",
      "conv2d (Conv2D)              (None, 48, 48, 32)        320       \n",
      "_________________________________________________________________\n",
      "activation (Activation)      (None, 48, 48, 32)        0         \n",
      "_________________________________________________________________\n",
      "batch_normalization (BatchNo (None, 48, 48, 32)        128       \n",
      "_________________________________________________________________\n",
      "conv2d_1 (Conv2D)            (None, 48, 48, 32)        9248      \n",
      "_________________________________________________________________\n",
      "activation_1 (Activation)    (None, 48, 48, 32)        0         \n",
      "_________________________________________________________________\n",
      "batch_normalization_1 (Batch (None, 48, 48, 32)        128       \n",
      "_________________________________________________________________\n",
      "max_pooling2d (MaxPooling2D) (None, 24, 24, 32)        0         \n",
      "_________________________________________________________________\n",
      "conv2d_2 (Conv2D)            (None, 24, 24, 64)        18496     \n",
      "_________________________________________________________________\n",
      "activation_2 (Activation)    (None, 24, 24, 64)        0         \n",
      "_________________________________________________________________\n",
      "batch_normalization_2 (Batch (None, 24, 24, 64)        256       \n",
      "_________________________________________________________________\n",
      "conv2d_3 (Conv2D)            (None, 24, 24, 64)        36928     \n",
      "_________________________________________________________________\n",
      "activation_3 (Activation)    (None, 24, 24, 64)        0         \n",
      "_________________________________________________________________\n",
      "batch_normalization_3 (Batch (None, 24, 24, 64)        256       \n",
      "_________________________________________________________________\n",
      "max_pooling2d_1 (MaxPooling2 (None, 12, 12, 64)        0         \n",
      "_________________________________________________________________\n",
      "conv2d_4 (Conv2D)            (None, 12, 12, 128)       73856     \n",
      "_________________________________________________________________\n",
      "activation_4 (Activation)    (None, 12, 12, 128)       0         \n",
      "_________________________________________________________________\n",
      "batch_normalization_4 (Batch (None, 12, 12, 128)       512       \n",
      "_________________________________________________________________\n",
      "conv2d_5 (Conv2D)            (None, 12, 12, 128)       147584    \n",
      "_________________________________________________________________\n",
      "activation_5 (Activation)    (None, 12, 12, 128)       0         \n",
      "_________________________________________________________________\n",
      "batch_normalization_5 (Batch (None, 12, 12, 128)       512       \n",
      "_________________________________________________________________\n",
      "max_pooling2d_2 (MaxPooling2 (None, 6, 6, 128)         0         \n",
      "_________________________________________________________________\n",
      "conv2d_6 (Conv2D)            (None, 6, 6, 128)         147584    \n",
      "_________________________________________________________________\n",
      "activation_6 (Activation)    (None, 6, 6, 128)         0         \n",
      "_________________________________________________________________\n",
      "batch_normalization_6 (Batch (None, 6, 6, 128)         512       \n",
      "_________________________________________________________________\n",
      "conv2d_7 (Conv2D)            (None, 6, 6, 128)         147584    \n",
      "_________________________________________________________________\n",
      "activation_7 (Activation)    (None, 6, 6, 128)         0         \n",
      "_________________________________________________________________\n",
      "batch_normalization_7 (Batch (None, 6, 6, 128)         512       \n",
      "_________________________________________________________________\n",
      "max_pooling2d_3 (MaxPooling2 (None, 3, 3, 128)         0         \n",
      "_________________________________________________________________\n",
      "flatten (Flatten)            (None, 1152)              0         \n",
      "_________________________________________________________________\n",
      "dense (Dense)                (None, 128)               147584    \n",
      "_________________________________________________________________\n",
      "activation_8 (Activation)    (None, 128)               0         \n",
      "_________________________________________________________________\n",
      "batch_normalization_8 (Batch (None, 128)               512       \n",
      "_________________________________________________________________\n",
      "dense_1 (Dense)              (None, 64)                8256      \n",
      "_________________________________________________________________\n",
      "activation_9 (Activation)    (None, 64)                0         \n",
      "_________________________________________________________________\n",
      "batch_normalization_9 (Batch (None, 64)                256       \n",
      "_________________________________________________________________\n",
      "dense_2 (Dense)              (None, 32)                2080      \n",
      "_________________________________________________________________\n",
      "activation_10 (Activation)   (None, 32)                0         \n",
      "_________________________________________________________________\n",
      "batch_normalization_10 (Batc (None, 32)                128       \n",
      "_________________________________________________________________\n",
      "dense_3 (Dense)              (None, 5)                 165       \n",
      "_________________________________________________________________\n",
      "activation_11 (Activation)   (None, 5)                 0         \n",
      "=================================================================\n",
      "Total params: 743,397\n",
      "Trainable params: 741,541\n",
      "Non-trainable params: 1,856\n",
      "_________________________________________________________________\n"
     ]
    }
   ],
   "source": [
    "model.summary()"
   ]
  },
  {
   "cell_type": "code",
   "execution_count": 15,
   "metadata": {},
   "outputs": [],
   "source": [
    "checkpoint = ModelCheckpoint(\"Emotion_Model.h5\",\n",
    "                            monitor='val_loss',\n",
    "                            mode='min',\n",
    "                            save_best_only=True,\n",
    "                            verbose=1)\n",
    "\n",
    "earlystop = EarlyStopping(monitor='val_loss',\n",
    "                         min_delta=0,\n",
    "                         patience=4,\n",
    "                         verbose=1,\n",
    "                         restore_best_weights=True)\n",
    "\n",
    "reduce_lr = ReduceLROnPlateau(monitor='val_loss',\n",
    "                             factor=0.2,\n",
    "                             patience=3,\n",
    "                             verbose=1,\n",
    "                             min_delta=0.0001)"
   ]
  },
  {
   "cell_type": "code",
   "execution_count": 16,
   "metadata": {},
   "outputs": [],
   "source": [
    "callback = [earlystop, checkpoint, reduce_lr]"
   ]
  },
  {
   "cell_type": "code",
   "execution_count": 17,
   "metadata": {},
   "outputs": [],
   "source": [
    "model.compile(optimizer=Adam(learning_rate=0.001), loss=\"categorical_crossentropy\", metrics=[\"accuracy\"])"
   ]
  },
  {
   "cell_type": "code",
   "execution_count": 18,
   "metadata": {},
   "outputs": [
    {
     "name": "stdout",
     "output_type": "stream",
     "text": [
      "WARNING:tensorflow:From <ipython-input-18-938125c00aa2>:1: Model.fit_generator (from tensorflow.python.keras.engine.training) is deprecated and will be removed in a future version.\n",
      "Instructions for updating:\n",
      "Please use Model.fit, which supports generators.\n",
      "Epoch 1/25\n",
      "377/377 [==============================] - ETA: 0s - loss: 1.6111 - accuracy: 0.2864\n",
      "Epoch 00001: val_loss improved from inf to 1.68636, saving model to Emotion_Model.h5\n",
      "377/377 [==============================] - 137s 363ms/step - loss: 1.6111 - accuracy: 0.2864 - val_loss: 1.6864 - val_accuracy: 0.2897 - lr: 0.0010\n",
      "Epoch 2/25\n",
      "377/377 [==============================] - ETA: 0s - loss: 1.5408 - accuracy: 0.3059\n",
      "Epoch 00002: val_loss improved from 1.68636 to 1.54702, saving model to Emotion_Model.h5\n",
      "377/377 [==============================] - 136s 361ms/step - loss: 1.5408 - accuracy: 0.3059 - val_loss: 1.5470 - val_accuracy: 0.3217 - lr: 0.0010\n",
      "Epoch 3/25\n",
      "377/377 [==============================] - ETA: 0s - loss: 1.5033 - accuracy: 0.3305\n",
      "Epoch 00003: val_loss improved from 1.54702 to 1.52978, saving model to Emotion_Model.h5\n",
      "377/377 [==============================] - 135s 358ms/step - loss: 1.5033 - accuracy: 0.3305 - val_loss: 1.5298 - val_accuracy: 0.3696 - lr: 0.0010\n",
      "Epoch 4/25\n",
      "377/377 [==============================] - ETA: 0s - loss: 1.4067 - accuracy: 0.3884\n",
      "Epoch 00004: val_loss improved from 1.52978 to 1.42932, saving model to Emotion_Model.h5\n",
      "377/377 [==============================] - 134s 357ms/step - loss: 1.4067 - accuracy: 0.3884 - val_loss: 1.4293 - val_accuracy: 0.4365 - lr: 0.0010\n",
      "Epoch 5/25\n",
      "377/377 [==============================] - ETA: 0s - loss: 1.3066 - accuracy: 0.4508\n",
      "Epoch 00005: val_loss improved from 1.42932 to 1.38877, saving model to Emotion_Model.h5\n",
      "377/377 [==============================] - 134s 355ms/step - loss: 1.3066 - accuracy: 0.4508 - val_loss: 1.3888 - val_accuracy: 0.4470 - lr: 0.0010\n",
      "Epoch 6/25\n",
      "377/377 [==============================] - ETA: 0s - loss: 1.2222 - accuracy: 0.4936\n",
      "Epoch 00006: val_loss did not improve from 1.38877\n",
      "377/377 [==============================] - 133s 354ms/step - loss: 1.2222 - accuracy: 0.4936 - val_loss: 1.5918 - val_accuracy: 0.4820 - lr: 0.0010\n",
      "Epoch 7/25\n",
      "377/377 [==============================] - ETA: 0s - loss: 1.1616 - accuracy: 0.5218\n",
      "Epoch 00007: val_loss did not improve from 1.38877\n",
      "377/377 [==============================] - 133s 354ms/step - loss: 1.1616 - accuracy: 0.5218 - val_loss: 1.7828 - val_accuracy: 0.3896 - lr: 0.0010\n",
      "Epoch 8/25\n",
      "377/377 [==============================] - ETA: 0s - loss: 1.1135 - accuracy: 0.5477\n",
      "Epoch 00008: val_loss improved from 1.38877 to 1.34018, saving model to Emotion_Model.h5\n",
      "377/377 [==============================] - 133s 354ms/step - loss: 1.1135 - accuracy: 0.5477 - val_loss: 1.3402 - val_accuracy: 0.5306 - lr: 0.0010\n",
      "Epoch 9/25\n",
      "377/377 [==============================] - ETA: 0s - loss: 1.0828 - accuracy: 0.5633\n",
      "Epoch 00009: val_loss improved from 1.34018 to 1.25565, saving model to Emotion_Model.h5\n",
      "377/377 [==============================] - 133s 354ms/step - loss: 1.0828 - accuracy: 0.5633 - val_loss: 1.2556 - val_accuracy: 0.5662 - lr: 0.0010\n",
      "Epoch 10/25\n",
      "377/377 [==============================] - ETA: 0s - loss: 1.0458 - accuracy: 0.5803\n",
      "Epoch 00010: val_loss did not improve from 1.25565\n",
      "377/377 [==============================] - 133s 354ms/step - loss: 1.0458 - accuracy: 0.5803 - val_loss: 1.3140 - val_accuracy: 0.5245 - lr: 0.0010\n",
      "Epoch 11/25\n",
      "377/377 [==============================] - ETA: 0s - loss: 1.0281 - accuracy: 0.5911\n",
      "Epoch 00011: val_loss did not improve from 1.25565\n",
      "377/377 [==============================] - 133s 354ms/step - loss: 1.0281 - accuracy: 0.5911 - val_loss: 1.2966 - val_accuracy: 0.5625 - lr: 0.0010\n",
      "Epoch 12/25\n",
      "377/377 [==============================] - ETA: 0s - loss: 1.0032 - accuracy: 0.5967\n",
      "Epoch 00012: val_loss improved from 1.25565 to 1.22501, saving model to Emotion_Model.h5\n",
      "377/377 [==============================] - 133s 354ms/step - loss: 1.0032 - accuracy: 0.5967 - val_loss: 1.2250 - val_accuracy: 0.5965 - lr: 0.0010\n",
      "Epoch 13/25\n",
      "377/377 [==============================] - ETA: 0s - loss: 0.9840 - accuracy: 0.6117\n",
      "Epoch 00013: val_loss did not improve from 1.22501\n",
      "377/377 [==============================] - 133s 354ms/step - loss: 0.9840 - accuracy: 0.6117 - val_loss: 1.2971 - val_accuracy: 0.5788 - lr: 0.0010\n",
      "Epoch 14/25\n",
      "377/377 [==============================] - ETA: 0s - loss: 0.9625 - accuracy: 0.6223\n",
      "Epoch 00014: val_loss improved from 1.22501 to 1.16810, saving model to Emotion_Model.h5\n",
      "377/377 [==============================] - 133s 354ms/step - loss: 0.9625 - accuracy: 0.6223 - val_loss: 1.1681 - val_accuracy: 0.5849 - lr: 0.0010\n",
      "Epoch 15/25\n",
      "377/377 [==============================] - ETA: 0s - loss: 0.9504 - accuracy: 0.6244\n",
      "Epoch 00015: val_loss did not improve from 1.16810\n",
      "377/377 [==============================] - 133s 354ms/step - loss: 0.9504 - accuracy: 0.6244 - val_loss: 1.4855 - val_accuracy: 0.5543 - lr: 0.0010\n",
      "Epoch 16/25\n",
      "377/377 [==============================] - ETA: 0s - loss: 0.9381 - accuracy: 0.6308\n",
      "Epoch 00016: val_loss did not improve from 1.16810\n",
      "377/377 [==============================] - 133s 354ms/step - loss: 0.9381 - accuracy: 0.6308 - val_loss: 1.4367 - val_accuracy: 0.5557 - lr: 0.0010\n",
      "Epoch 17/25\n",
      "377/377 [==============================] - ETA: 0s - loss: 0.9305 - accuracy: 0.6314\n",
      "Epoch 00017: val_loss did not improve from 1.16810\n",
      "\n",
      "Epoch 00017: ReduceLROnPlateau reducing learning rate to 0.00020000000949949026.\n",
      "377/377 [==============================] - 133s 354ms/step - loss: 0.9305 - accuracy: 0.6314 - val_loss: 1.2236 - val_accuracy: 0.6118 - lr: 0.0010\n",
      "Epoch 18/25\n",
      "377/377 [==============================] - ETA: 0s - loss: 0.8868 - accuracy: 0.6548Restoring model weights from the end of the best epoch.\n",
      "\n",
      "Epoch 00018: val_loss did not improve from 1.16810\n",
      "377/377 [==============================] - 133s 353ms/step - loss: 0.8868 - accuracy: 0.6548 - val_loss: 1.1943 - val_accuracy: 0.6223 - lr: 2.0000e-04\n",
      "Epoch 00018: early stopping\n"
     ]
    }
   ],
   "source": [
    "history = model.fit_generator(train_generator, epochs=25, steps_per_epoch=24177//64, callbacks=callback, validation_data=validation_generator, validation_steps=3006//64)"
   ]
  },
  {
   "cell_type": "code",
   "execution_count": null,
   "metadata": {},
   "outputs": [],
   "source": []
  }
 ],
 "metadata": {
  "kernelspec": {
   "display_name": "Python 3",
   "language": "python",
   "name": "python3"
  },
  "language_info": {
   "codemirror_mode": {
    "name": "ipython",
    "version": 3
   },
   "file_extension": ".py",
   "mimetype": "text/x-python",
   "name": "python",
   "nbconvert_exporter": "python",
   "pygments_lexer": "ipython3",
   "version": "3.8.2"
  }
 },
 "nbformat": 4,
 "nbformat_minor": 4
}
